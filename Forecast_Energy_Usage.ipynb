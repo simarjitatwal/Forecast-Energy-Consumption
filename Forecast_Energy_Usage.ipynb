{
 "cells": [
  {
   "cell_type": "code",
   "execution_count": 1,
   "metadata": {},
   "outputs": [],
   "source": [
    "import numpy as np\n",
    "import pandas as pd\n",
    "import matplotlib.pyplot as plt\n",
    "%matplotlib inline"
   ]
  },
  {
   "cell_type": "code",
   "execution_count": 3,
   "metadata": {},
   "outputs": [
    {
     "name": "stdout",
     "output_type": "stream",
     "text": [
      "LCLid\n",
      "MAC000021    39078\n",
      "MAC000020    39078\n",
      "MAC000018    39081\n",
      "Name: Count, dtype: int64\n"
     ]
    }
   ],
   "source": [
    "#Read the data and count number of samples corresponding to each LCLid\n",
    "power=pd.read_csv('Power-Networks-LCL.csv', index_col='LCLid')\n",
    "a=power.groupby('LCLid').count()\n",
    "a['Count']=a['KWh']\n",
    "a=a.sort_values('KWh')\n",
    "print(a['Count'].tail(3))"
   ]
  },
  {
   "cell_type": "code",
   "execution_count": 4,
   "metadata": {},
   "outputs": [],
   "source": [
    "#Get data of top 3 households.\n",
    "data = pd.concat((power.loc['MAC000018'],power.loc['MAC000020'],power.loc['MAC000021']),axis=0)\n",
    "data.index = pd.to_datetime(data['DateTime'])"
   ]
  },
  {
   "cell_type": "code",
   "execution_count": 5,
   "metadata": {
    "scrolled": false
   },
   "outputs": [
    {
     "data": {
      "image/png": "[encoded data removed]",
      "text/plain": [
       "<Figure size 432x288 with 1 Axes>"
      ]
     },
     "metadata": {
      "needs_background": "light"
     },
     "output_type": "display_data"
    }
   ],
   "source": [
    "#Resampling of data on hourly basis\n",
    "data = data.resample('H').sum()\n",
    "\n",
    "data.plot()\n",
    "plt.xlabel('DateTime')\n",
    "plt.ylabel('Consumption (in KWh)')\n",
    "plt.show()"
   ]
  },
  {
   "cell_type": "code",
   "execution_count": 6,
   "metadata": {},
   "outputs": [],
   "source": [
    "#Split data in train and test with 75% training data and 25% testing data\n",
    "train_len = int(len(data)*0.75)\n",
    "train_set = data.head(train_len)"
   ]
  },
  {
   "cell_type": "code",
   "execution_count": null,
   "metadata": {},
   "outputs": [],
   "source": [
    "#Scale data between 0 and 1\n",
    "from sklearn.preprocessing import MinMaxScaler\n",
    "sc = MinMaxScaler(feature_range=(0,1))\n",
    "X_scaled= sc.fit_transform(train_set)"
   ]
  },
  {
   "cell_type": "code",
   "execution_count": 31,
   "metadata": {},
   "outputs": [],
   "source": [
    "#Create input data with 22 timesteps and 1 output\n",
    "X_train=[]\n",
    "y_train=[]\n",
    "for i in range(22,train_len):\n",
    "    X_train.append(X_scaled[i-22:i, 0])\n",
    "    y_train.append(X_scaled[i,0])\n",
    "\n",
    "X_train, y_train= np.array(X_train),np.array(y_train)    \n",
    "\n",
    "X_train = np.reshape(X_train,(X_train.shape[0],X_train.shape[1], 1))"
   ]
  },
  {
   "cell_type": "code",
   "execution_count": 32,
   "metadata": {},
   "outputs": [],
   "source": [
    "from keras.models import Sequential\n",
    "from keras.layers import Dense\n",
    "from keras.layers import LSTM\n",
    "from keras.layers import Dropout"
   ]
  },
  {
   "cell_type": "code",
   "execution_count": 33,
   "metadata": {},
   "outputs": [],
   "source": [
    "model = Sequential()"
   ]
  },
  {
   "cell_type": "code",
   "execution_count": 34,
   "metadata": {},
   "outputs": [],
   "source": [
    "model.add(LSTM(units=50, return_sequences=True, input_shape = (X_train.shape[1],1)))\n",
    "model.add(Dropout(0.2))"
   ]
  },
  {
   "cell_type": "code",
   "execution_count": 35,
   "metadata": {},
   "outputs": [],
   "source": [
    "model.add(LSTM(units=50, return_sequences=True))\n",
    "model.add(Dropout(0.2))"
   ]
  },
  {
   "cell_type": "code",
   "execution_count": 36,
   "metadata": {},
   "outputs": [],
   "source": [
    "model.add(LSTM(units=50, return_sequences=True))\n",
    "model.add(Dropout(0.2))"
   ]
  },
  {
   "cell_type": "code",
   "execution_count": 37,
   "metadata": {},
   "outputs": [],
   "source": [
    "model.add(LSTM(units=50))\n",
    "model.add(Dropout(0.2))"
   ]
  },
  {
   "cell_type": "code",
   "execution_count": 38,
   "metadata": {},
   "outputs": [],
   "source": [
    "model.add(Dense(1))"
   ]
  },
  {
   "cell_type": "code",
   "execution_count": 39,
   "metadata": {},
   "outputs": [],
   "source": [
    "model.compile(optimizer='adam',loss='mean_squared_error')"
   ]
  },
  {
   "cell_type": "code",
   "execution_count": 40,
   "metadata": {},
   "outputs": [
    {
     "name": "stdout",
     "output_type": "stream",
     "text": [
      "Epoch 1/50\n",
      "14624/14624 [==============================] - 13s 871us/step - loss: 0.0104\n",
      "Epoch 2/50\n",
      "14624/14624 [==============================] - 10s 672us/step - loss: 0.0091\n",
      "Epoch 3/50\n",
      "14624/14624 [==============================] - 11s 748us/step - loss: 0.0082\n",
      "Epoch 4/50\n",
      "14624/14624 [==============================] - 10s 711us/step - loss: 0.0066\n",
      "Epoch 5/50\n",
      "14624/14624 [==============================] - 11s 769us/step - loss: 0.0055\n",
      "Epoch 6/50\n",
      "14624/14624 [==============================] - 11s 772us/step - loss: 0.0051\n",
      "Epoch 7/50\n",
      "14624/14624 [==============================] - 11s 743us/step - loss: 0.0051\n",
      "Epoch 8/50\n",
      "14624/14624 [==============================] - 11s 760us/step - loss: 0.0048\n",
      "Epoch 9/50\n",
      "14624/14624 [==============================] - 11s 748us/step - loss: 0.0048\n",
      "Epoch 10/50\n",
      "14624/14624 [==============================] - 12s 790us/step - loss: 0.0048\n",
      "Epoch 11/50\n",
      "14624/14624 [==============================] - 12s 787us/step - loss: 0.0048\n",
      "Epoch 12/50\n",
      "14624/14624 [==============================] - 11s 737us/step - loss: 0.0047\n",
      "Epoch 13/50\n",
      "14624/14624 [==============================] - 12s 852us/step - loss: 0.0047\n",
      "Epoch 14/50\n",
      "14624/14624 [==============================] - 11s 740us/step - loss: 0.0047\n",
      "Epoch 15/50\n",
      "14624/14624 [==============================] - 11s 748us/step - loss: 0.0046\n",
      "Epoch 16/50\n",
      "14624/14624 [==============================] - 11s 729us/step - loss: 0.0047\n",
      "Epoch 17/50\n",
      "14624/14624 [==============================] - 11s 738us/step - loss: 0.0046\n",
      "Epoch 18/50\n",
      "14624/14624 [==============================] - 11s 738us/step - loss: 0.0046\n",
      "Epoch 19/50\n",
      "14624/14624 [==============================] - 11s 760us/step - loss: 0.0045\n",
      "Epoch 20/50\n",
      "14624/14624 [==============================] - 11s 777us/step - loss: 0.0045\n",
      "Epoch 21/50\n",
      "14624/14624 [==============================] - 12s 807us/step - loss: 0.0045\n",
      "Epoch 22/50\n",
      "14624/14624 [==============================] - 11s 777us/step - loss: 0.0045\n",
      "Epoch 23/50\n",
      "14624/14624 [==============================] - 14s 943us/step - loss: 0.0045\n",
      "Epoch 24/50\n",
      "14624/14624 [==============================] - 12s 829us/step - loss: 0.0044\n",
      "Epoch 25/50\n",
      "14624/14624 [==============================] - 11s 765us/step - loss: 0.0045\n",
      "Epoch 26/50\n",
      "14624/14624 [==============================] - 11s 720us/step - loss: 0.0044\n",
      "Epoch 27/50\n",
      "14624/14624 [==============================] - 10s 715us/step - loss: 0.0045\n",
      "Epoch 28/50\n",
      "14624/14624 [==============================] - 10s 713us/step - loss: 0.0044\n",
      "Epoch 29/50\n",
      "14624/14624 [==============================] - 11s 757us/step - loss: 0.0044\n",
      "Epoch 30/50\n",
      "14624/14624 [==============================] - 11s 719us/step - loss: 0.0044\n",
      "Epoch 31/50\n",
      "14624/14624 [==============================] - 10s 718us/step - loss: 0.0044\n",
      "Epoch 32/50\n",
      "14624/14624 [==============================] - 11s 725us/step - loss: 0.0044\n",
      "Epoch 33/50\n",
      "14624/14624 [==============================] - 11s 719us/step - loss: 0.0044\n",
      "Epoch 34/50\n",
      "14624/14624 [==============================] - 10s 717us/step - loss: 0.0044\n",
      "Epoch 35/50\n",
      "14624/14624 [==============================] - 11s 772us/step - loss: 0.0044\n",
      "Epoch 36/50\n",
      "14624/14624 [==============================] - 11s 718us/step - loss: 0.0044\n",
      "Epoch 37/50\n",
      "14624/14624 [==============================] - 11s 721us/step - loss: 0.0044\n",
      "Epoch 38/50\n",
      "14624/14624 [==============================] - 11s 720us/step - loss: 0.0043\n",
      "Epoch 39/50\n",
      "14624/14624 [==============================] - 13s 858us/step - loss: 0.0044\n",
      "Epoch 40/50\n",
      "14624/14624 [==============================] - 11s 739us/step - loss: 0.0044\n",
      "Epoch 41/50\n",
      "14624/14624 [==============================] - 12s 840us/step - loss: 0.0044\n",
      "Epoch 42/50\n",
      "14624/14624 [==============================] - 12s 821us/step - loss: 0.0043\n",
      "Epoch 43/50\n",
      "14624/14624 [==============================] - 11s 764us/step - loss: 0.0043\n",
      "Epoch 44/50\n",
      "14624/14624 [==============================] - 13s 890us/step - loss: 0.0043\n",
      "Epoch 45/50\n",
      "14624/14624 [==============================] - 10s 710us/step - loss: 0.0043\n",
      "Epoch 46/50\n",
      "14624/14624 [==============================] - 12s 841us/step - loss: 0.0043\n",
      "Epoch 47/50\n",
      "14624/14624 [==============================] - 12s 799us/step - loss: 0.0043\n",
      "Epoch 48/50\n",
      "14624/14624 [==============================] - 12s 839us/step - loss: 0.0043\n",
      "Epoch 49/50\n",
      "14624/14624 [==============================] - 12s 826us/step - loss: 0.0043\n",
      "Epoch 50/50\n",
      "14624/14624 [==============================] - 10s 708us/step - loss: 0.0043\n"
     ]
    },
    {
     "data": {
      "text/plain": [
       "<keras.callbacks.History at 0x20d06103780>"
      ]
     },
     "execution_count": 40,
     "metadata": {},
     "output_type": "execute_result"
    }
   ],
   "source": [
    "#Training the final model\n",
    "model.fit(X_train, y_train,epochs=50,batch_size=100)"
   ]
  },
  {
   "cell_type": "code",
   "execution_count": 41,
   "metadata": {},
   "outputs": [],
   "source": [
    "#Save model to use in future\n",
    "from keras.models import load_model\n",
    "model.save(\"Forecast_consumption.h5\")"
   ]
  },
  {
   "cell_type": "code",
   "execution_count": 42,
   "metadata": {},
   "outputs": [],
   "source": [
    "#Prepare test data\n",
    "test_len = len(data)-len(train_set)\n",
    "x_test = data.tail(test_len)\n",
    "test_data = data.tail(test_len+22)"
   ]
  },
  {
   "cell_type": "code",
   "execution_count": 43,
   "metadata": {},
   "outputs": [],
   "source": [
    "data_total=pd.concat((train_set['KWh'],test_data['KWh']),axis=0)\n",
    "inputs = data_total[len(data_total)-len(test_data)-22:].values\n",
    "inputs = inputs.reshape(-1,1)\n",
    "sc = MinMaxScaler(feature_range=(0,1))\n",
    "inputs = sc.fit_transform(inputs)\n",
    "X_test = []\n",
    "for i in range(22,test_len+22):\n",
    "    X_test.append(inputs[i-22:i,0])\n",
    "X_test = np.array(X_test)\n",
    "X_test = np.reshape(X_test,(X_test.shape[0], X_test.shape[1],1))"
   ]
  },
  {
   "cell_type": "code",
   "execution_count": 44,
   "metadata": {},
   "outputs": [
    {
     "name": "stderr",
     "output_type": "stream",
     "text": [
      "C:\\ProgramData\\Anaconda3\\lib\\site-packages\\ipykernel_launcher.py:4: SettingWithCopyWarning: \n",
      "A value is trying to be set on a copy of a slice from a DataFrame.\n",
      "Try using .loc[row_indexer,col_indexer] = value instead\n",
      "\n",
      "See the caveats in the documentation: http://pandas.pydata.org/pandas-docs/stable/indexing.html#indexing-view-versus-copy\n",
      "  after removing the cwd from sys.path.\n"
     ]
    },
    {
     "data": {
      "image/png": "[encoded data removed]",
      "text/plain": [
       "<Figure size 432x288 with 1 Axes>"
      ]
     },
     "metadata": {
      "needs_background": "light"
     },
     "output_type": "display_data"
    }
   ],
   "source": [
    "#Predict and plot data\n",
    "pred = model.predict(X_test)\n",
    "pred = sc.inverse_transform(pred)\n",
    "x_test['predict']=pred\n",
    "x_test.plot()\n",
    "plt.xlabel('DateTime')\n",
    "plt.ylabel('Consumption (in KWh)')\n",
    "plt.show()"
   ]
  },
  {
   "cell_type": "code",
   "execution_count": 45,
   "metadata": {},
   "outputs": [
    {
     "name": "stdout",
     "output_type": "stream",
     "text": [
      "MSE: 0.37\n"
     ]
    }
   ],
   "source": [
    "#Forecast Error\n",
    "from sklearn.metrics import mean_squared_error\n",
    "mse = mean_squared_error(x_test['KWh'],x_test['predict'])\n",
    "print('MSE: '+'{:.2f}'.format(mse))"
   ]
  },
  {
   "cell_type": "code",
   "execution_count": null,
   "metadata": {},
   "outputs": [],
   "source": []
  }
 ],
 "metadata": {
  "kernelspec": {
   "display_name": "Python 3",
   "language": "python",
   "name": "python3"
  },
  "language_info": {
   "codemirror_mode": {
    "name": "ipython",
    "version": 3
   },
   "file_extension": ".py",
   "mimetype": "text/x-python",
   "name": "python",
   "nbconvert_exporter": "python",
   "pygments_lexer": "ipython3",
   "version": "3.7.3"
  }
 },
 "nbformat": 4,
 "nbformat_minor": 2
}
